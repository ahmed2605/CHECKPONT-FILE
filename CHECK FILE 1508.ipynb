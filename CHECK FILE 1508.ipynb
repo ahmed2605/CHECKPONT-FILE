{
 "cells": [
  {
   "cell_type": "code",
   "execution_count": null,
   "id": "05805a37",
   "metadata": {},
   "outputs": [],
   "source": [
    "f = open(\"licence.txt\",\"r\")\n",
    "data = f.read()\n",
    "print(data)\n",
    "f.close()"
   ]
  },
  {
   "cell_type": "code",
   "execution_count": null,
   "id": "af3e4b38",
   "metadata": {},
   "outputs": [],
   "source": [
    "myfile = open(\"SOURCES.txt\", \"r\")\n",
    "myline = myfile.readline()\n",
    "print(myline)\n",
    "myfile.close()"
   ]
  },
  {
   "cell_type": "code",
   "execution_count": null,
   "id": "ebeca34c",
   "metadata": {},
   "outputs": [],
   "source": [
    "def read_last_lines(filename, no_of_lines=1): \n",
    "    file = open(filename,'r') \n",
    "    lines = file.readlines() \n",
    "    last_lines = lines[-no_of_lines:] \n",
    "    for line in last_lines: \n",
    "        print(line) \n",
    "    file.close() \n",
    " \n",
    " \n",
    "if __name__ == \"__main__\": \n",
    "    filename = \"file.txt\" \n",
    "    read_last_lines(filename,2) \n"
   ]
  },
  {
   "cell_type": "code",
   "execution_count": null,
   "id": "ec261583",
   "metadata": {},
   "outputs": [],
   "source": [
    "def count_words(filepath):\n",
    "   with open(filepath) as f:\n",
    "       data = f.read()\n",
    "       data.replace(\",\", \" \")\n",
    "       return len(data.split(\" \"))\n",
    "print(count_words(\"words.txt\"))"
   ]
  }
 ],
 "metadata": {
  "kernelspec": {
   "display_name": "Python 3",
   "language": "python",
   "name": "python3"
  },
  "language_info": {
   "codemirror_mode": {
    "name": "ipython",
    "version": 3
   },
   "file_extension": ".py",
   "mimetype": "text/x-python",
   "name": "python",
   "nbconvert_exporter": "python",
   "pygments_lexer": "ipython3",
   "version": "3.8.8"
  }
 },
 "nbformat": 4,
 "nbformat_minor": 5
}
