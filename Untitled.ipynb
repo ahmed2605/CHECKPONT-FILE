{
 "cells": [
  {
   "cell_type": "code",
   "execution_count": 14,
   "id": "0cd4d2ad",
   "metadata": {},
   "outputs": [
    {
     "data": {
      "text/plain": [
       "2000"
      ]
     },
     "execution_count": 14,
     "metadata": {},
     "output_type": "execute_result"
    }
   ],
   "source": [
    "\n",
    "def maximum(x,y,z):\n",
    "    if x >= y and x >= z:\n",
    "        return(x)\n",
    "    elif y >= x and y >= z:\n",
    "        return(y)\n",
    "    else: \n",
    "        return(z)\n",
    "maximum(2000,200,2000)\n",
    "        "
   ]
  },
  {
   "cell_type": "code",
   "execution_count": 18,
   "id": "c5c5d6f7",
   "metadata": {},
   "outputs": [
    {
     "data": {
      "text/plain": [
       "(110, 90)"
      ]
     },
     "execution_count": 18,
     "metadata": {},
     "output_type": "execute_result"
    }
   ],
   "source": [
    "\n",
    "def calculation(a,b):\n",
    "    return a+b, a-b\n",
    "    \n",
    "calculation(100,10)"
   ]
  },
  {
   "cell_type": "code",
   "execution_count": 73,
   "id": "445e53b7",
   "metadata": {},
   "outputs": [
    {
     "name": "stdout",
     "output_type": "stream",
     "text": [
      "116\n",
      "14400\n"
     ]
    }
   ],
   "source": [
    "\n",
    "list = [100,1,2,3,4,6]\n",
    "\n",
    "\n",
    "\n",
    "def sum(list):\n",
    "    \n",
    "    total1 = 0\n",
    "    for i in list:\n",
    "        total1 = total1 + i\n",
    "    return total1\n",
    "\n",
    "def multiply(list):\n",
    "    \n",
    "    total2 = 1\n",
    "    for i in list:\n",
    "        total2 = total2 * i\n",
    "    return total2\n",
    "\n",
    "print(sum(list))\n",
    "print(multiply(list))\n",
    "\n",
    "\n",
    "\n",
    "\n",
    "\n",
    "    \n"
   ]
  },
  {
   "cell_type": "code",
   "execution_count": null,
   "id": "23b83479",
   "metadata": {},
   "outputs": [],
   "source": [
    "\n",
    "n=input() \n",
    "l=n.split('-') \n",
    "l.sort() \n",
    "print('-'.join(l))"
   ]
  },
  {
   "cell_type": "code",
   "execution_count": null,
   "id": "3dc1e222",
   "metadata": {},
   "outputs": [],
   "source": []
  }
 ],
 "metadata": {
  "kernelspec": {
   "display_name": "Python 3",
   "language": "python",
   "name": "python3"
  },
  "language_info": {
   "codemirror_mode": {
    "name": "ipython",
    "version": 3
   },
   "file_extension": ".py",
   "mimetype": "text/x-python",
   "name": "python",
   "nbconvert_exporter": "python",
   "pygments_lexer": "ipython3",
   "version": "3.8.8"
  }
 },
 "nbformat": 4,
 "nbformat_minor": 5
}
